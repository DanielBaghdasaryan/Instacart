{
 "cells": [
  {
   "cell_type": "code",
   "execution_count": 2,
   "metadata": {},
   "outputs": [
    {
     "name": "stderr",
     "output_type": "stream",
     "text": [
      "/usr/local/lib/python2.7/dist-packages/statsmodels/compat/pandas.py:56: FutureWarning: The pandas.core.datetools module is deprecated and will be removed in a future version. Please use the pandas.tseries module instead.\n",
      "  from pandas.core import datetools\n",
      "/usr/local/lib/python2.7/dist-packages/sklearn/cross_validation.py:44: DeprecationWarning: This module was deprecated in version 0.18 in favor of the model_selection module into which all the refactored classes and functions are moved. Also note that the interface of the new CV iterators are different from that of this module. This module will be removed in 0.20.\n",
      "  \"This module will be removed in 0.20.\", DeprecationWarning)\n"
     ]
    }
   ],
   "source": [
    "import numpy as np\n",
    "import matplotlib.pyplot as plt\n",
    "import pandas as pd\n",
    "import time\n",
    "\n",
    "import statsmodels.api as sm\n",
    "from patsy import dmatrices\n",
    "from sklearn.model_selection import train_test_split\n",
    "import predict as ka\n",
    "\n",
    "from xgboost import XGBClassifier\n",
    "from xgboost import XGBRegressor"
   ]
  },
  {
   "cell_type": "code",
   "execution_count": 24,
   "metadata": {},
   "outputs": [],
   "source": [
    "df=pd.read_csv('Daniel_data.csv', sep=',', decimal='.', index_col='order_id')\n",
    "\n",
    "spaces=[' ']*len(df)\n",
    "df['products']=df['products'].astype(str)+spaces # for summing products as strings for final csv file\n",
    "\n",
    "orders=pd.read_csv('orders.csv', sep=',', decimal='.', index_col='order_id')\n",
    "test_ids=orders.index[orders['eval_set']=='test'] # orders of final csv file"
   ]
  },
  {
   "cell_type": "markdown",
   "metadata": {},
   "source": [
    "# Featurize"
   ]
  },
  {
   "cell_type": "code",
   "execution_count": 29,
   "metadata": {},
   "outputs": [
    {
     "name": "stderr",
     "output_type": "stream",
     "text": [
      "/usr/local/lib/python2.7/dist-packages/ipykernel_launcher.py:14: SettingWithCopyWarning: \n",
      "A value is trying to be set on a copy of a slice from a DataFrame.\n",
      "Try using .loc[row_indexer,col_indexer] = value instead\n",
      "\n",
      "See the caveats in the documentation: http://pandas.pydata.org/pandas-docs/stable/indexing.html#indexing-view-versus-copy\n",
      "  \n"
     ]
    }
   ],
   "source": [
    "df['dow_rep/rep']=df['dow_rep']/df['repeating']\n",
    "df['N/rep']=df['N_ord']/df['repeating'] # qani ordery meka et produkty arnum\n",
    "df['frequency']=df['life']/df['repeating'] + 1  # period\n",
    "df['rep/N']=df['repeating']/df['N_ord']\n",
    "\n",
    "df['feat1']=df['rep/N']\n",
    "df['feat2']=df['dow_rep/rep']\n",
    "df['feat3']=df['gap_N']/df['N/rep']\n",
    "df['feat4']=(df['life']-df['last_day'])/df['frequency']\n",
    "df['feat5']=df['rep/N']**2\n",
    "df['feat6']=df['feat4']**2\n",
    "\n",
    "df_train=df[df['labels']!='test']\n",
    "df_train['labels']=df_train['labels'].astype(float)"
   ]
  },
  {
   "cell_type": "code",
   "execution_count": 91,
   "metadata": {
    "collapsed": true
   },
   "outputs": [],
   "source": [
    "# crop label=0 data if needed\n",
    "remove_n = 2000000\n",
    "indices=df_train[df_train['labels']==0].index\n",
    "drop_indices = np.random.choice(indices, remove_n, replace=False)\n",
    "df_train = df_train.drop(drop_indices)"
   ]
  },
  {
   "cell_type": "code",
   "execution_count": 80,
   "metadata": {},
   "outputs": [
    {
     "data": {
      "text/plain": [
       "801538"
      ]
     },
     "execution_count": 80,
     "metadata": {},
     "output_type": "execute_result"
    }
   ],
   "source": [
    "len(df_train[df_train['labels']==0])"
   ]
  },
  {
   "cell_type": "code",
   "execution_count": 74,
   "metadata": {},
   "outputs": [
    {
     "data": {
      "text/plain": [
       "589602"
      ]
     },
     "execution_count": 74,
     "metadata": {},
     "output_type": "execute_result"
    }
   ],
   "source": [
    "len(df_train[df_train['labels']==1])"
   ]
  },
  {
   "cell_type": "markdown",
   "metadata": {},
   "source": [
    "# XGBoost"
   ]
  },
  {
   "cell_type": "markdown",
   "metadata": {},
   "source": [
    "#### Classifier (1 or 0)"
   ]
  },
  {
   "cell_type": "code",
   "execution_count": 92,
   "metadata": {
    "collapsed": true
   },
   "outputs": [],
   "source": [
    "X = df_train[['feat1','feat2','feat3','feat4']]\n",
    "Y = df_train['labels']\n",
    "\n",
    "model = XGBClassifier()\n",
    "model.fit(X, Y)\n",
    "\n",
    "df_final['result']=model.predict(df[['feat1','feat2','feat3','feat4']])"
   ]
  },
  {
   "cell_type": "markdown",
   "metadata": {},
   "source": [
    "#### Regressor (numbers)"
   ]
  },
  {
   "cell_type": "code",
   "execution_count": 30,
   "metadata": {},
   "outputs": [
    {
     "data": {
      "text/plain": [
       "XGBRegressor(base_score=0.5, colsample_bylevel=1, colsample_bytree=1, gamma=0,\n",
       "       learning_rate=0.1, max_delta_step=0, max_depth=3,\n",
       "       min_child_weight=1, missing=None, n_estimators=100, nthread=-1,\n",
       "       objective='reg:linear', reg_alpha=0, reg_lambda=1,\n",
       "       scale_pos_weight=1, seed=0, silent=True, subsample=1)"
      ]
     },
     "execution_count": 30,
     "metadata": {},
     "output_type": "execute_result"
    }
   ],
   "source": [
    "X = df_train[['feat1','feat2','feat3','feat4','feat5','feat6']]\n",
    "Y = df_train['labels']\n",
    "\n",
    "model = XGBRegressor()\n",
    "model.fit(X, Y)\n",
    "\n",
    "df['result']=model.predict(df[['feat1','feat2','feat3','feat4','feat5','feat6']])"
   ]
  },
  {
   "cell_type": "markdown",
   "metadata": {},
   "source": [
    "# Finalizing"
   ]
  },
  {
   "cell_type": "code",
   "execution_count": 38,
   "metadata": {},
   "outputs": [
    {
     "data": {
      "image/png": "[encoded data removed]",
      "text/plain": [
       "<matplotlib.figure.Figure at 0x7f89213a4a90>"
      ]
     },
     "metadata": {},
     "output_type": "display_data"
    },
    {
     "data": {
      "image/png": "[encoded data removed]",
      "text/plain": [
       "<matplotlib.figure.Figure at 0x7f892132ea90>"
      ]
     },
     "metadata": {},
     "output_type": "display_data"
    }
   ],
   "source": [
    "positive=df[df['labels']=='1.0']\n",
    "negative=df[df['labels']=='0.0']\n",
    "(positive['result']).hist(bins=50)\n",
    "plt.xlabel('result')\n",
    "plt.title('label=1')\n",
    "plt.show()\n",
    "(negative['result']).hist(bins=50)\n",
    "plt.xlabel('result')\n",
    "plt.title('label=0')\n",
    "plt.show()"
   ]
  },
  {
   "cell_type": "code",
   "execution_count": 15,
   "metadata": {
    "collapsed": true
   },
   "outputs": [],
   "source": [
    "select=df_final[df_final['result']>0.2] # select data according to histogram\n",
    "\n",
    "select=select.loc[test_ids] # select data to be predict\n",
    "\n",
    "pred=select['products'].groupby(select.index).sum() # summing products\n",
    "pred=pred.fillna('None') # replace empties by 'None's\n",
    "\n",
    "pred.to_csv('regression.csv', header=True) # final file"
   ]
  }
 ],
 "metadata": {
  "kernelspec": {
   "display_name": "Python 2",
   "language": "python",
   "name": "python2"
  },
  "language_info": {
   "codemirror_mode": {
    "name": "ipython",
    "version": 2
   },
   "file_extension": ".py",
   "mimetype": "text/x-python",
   "name": "python",
   "nbconvert_exporter": "python",
   "pygments_lexer": "ipython2",
   "version": "2.7.13"
  }
 },
 "nbformat": 4,
 "nbformat_minor": 2
}
